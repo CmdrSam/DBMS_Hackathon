{
 "cells": [
  {
   "cell_type": "code",
   "execution_count": 5,
   "metadata": {},
   "outputs": [],
   "source": [
    "import pymongo\n"
   ]
  },
  {
   "cell_type": "code",
   "execution_count": null,
   "metadata": {},
   "outputs": [],
   "source": []
  },
  {
   "cell_type": "code",
   "execution_count": null,
   "metadata": {},
   "outputs": [],
   "source": []
  },
  {
   "cell_type": "code",
   "execution_count": 6,
   "metadata": {},
   "outputs": [],
   "source": [
    "myclient = pymongo.MongoClient(\"mongodb://localhost:27017/\")"
   ]
  },
  {
   "cell_type": "code",
   "execution_count": 7,
   "metadata": {},
   "outputs": [],
   "source": [
    "mydb=myclient[\"users\"]"
   ]
  },
  {
   "cell_type": "code",
   "execution_count": 8,
   "metadata": {},
   "outputs": [],
   "source": [
    "mycol=mydb['contacts']"
   ]
  },
  {
   "cell_type": "code",
   "execution_count": 10,
   "metadata": {},
   "outputs": [],
   "source": [
    "myquery={'Destination Station':'MAO'} # All the queries where destination station code is MAO"
   ]
  },
  {
   "cell_type": "code",
   "execution_count": 11,
   "metadata": {},
   "outputs": [],
   "source": [
    "mydoc=mycol.find(myquery)"
   ]
  },
  {
   "cell_type": "code",
   "execution_count": 12,
   "metadata": {},
   "outputs": [
    {
     "name": "stdout",
     "output_type": "stream",
     "text": [
      "{'_id': ObjectId('5dbd6867e674a7abf73ac4db'), 'Train No': 107, 'Train Name': 'SWV-MAO-VLNK', 'SEQ': 4, 'Station Code': 'MAO', 'Station Name': 'MADGOAN JN.', 'Arrival time': '12:10:00', 'Arrival Seconds': 4920, 'Departure Time': '00:00:00', 'Departure Seconds': 0, 'Distance': 78, 'Source Station': 'SWV', 'Source Station Name': 'SAWANTWADI ROAD', 'Destination Station': 'MAO', 'Destination Station Name': 'MADGOAN JN.'}\n",
      "{'_id': ObjectId('5dbd6867e674a7abf73ac4dd'), 'Train No': 107, 'Train Name': 'SWV-MAO-VLNK', 'SEQ': 2, 'Station Code': 'THVM', 'Station Name': 'THIVIM', 'Arrival time': '11:06:00', 'Arrival Seconds': 1020, 'Departure Time': '11:08:00', 'Departure Seconds': 4440, 'Distance': 32, 'Source Station': 'SWV', 'Source Station Name': 'SAWANTWADI ROAD', 'Destination Station': 'MAO', 'Destination Station Name': 'MADGOAN JN.'}\n",
      "{'_id': ObjectId('5dbd6867e674a7abf73ac4e8'), 'Train No': 107, 'Train Name': 'SWV-MAO-VLNK', 'SEQ': 1, 'Station Code': 'SWV', 'Station Name': 'SAWANTWADI R', 'Arrival time': '00:00:00', 'Arrival Seconds': 0, 'Departure Time': '10:25:00', 'Departure Seconds': 5100, 'Distance': 0, 'Source Station': 'SWV', 'Source Station Name': 'SAWANTWADI ROAD', 'Destination Station': 'MAO', 'Destination Station Name': 'MADGOAN JN.'}\n",
      "{'_id': ObjectId('5dbd6867e674a7abf73ac517'), 'Train No': 107, 'Train Name': 'SWV-MAO-VLNK', 'SEQ': 3, 'Station Code': 'KRMI', 'Station Name': 'KARMALI', 'Arrival time': '11:28:00', 'Arrival Seconds': 5640, 'Departure Time': '11:30:00', 'Departure Seconds': 5760, 'Distance': 49, 'Source Station': 'SWV', 'Source Station Name': 'SAWANTWADI ROAD', 'Destination Station': 'MAO', 'Destination Station Name': 'MADGOAN JN.'}\n",
      "{'_id': ObjectId('5dbd6867e674a7abf73ac812'), 'Train No': 4420, 'Train Name': 'NZM-MAO WINT', 'SEQ': 1, 'Station Code': 'NZM', 'Station Name': 'HAZRAT NIZAM', 'Arrival time': '15:35:00', 'Arrival Seconds': 7500, 'Departure Time': '15:35:00', 'Departure Seconds': 7500, 'Distance': 0, 'Source Station': 'NZM', 'Source Station Name': 'HAZRAT NIZAMUDDIN JN', 'Destination Station': 'MAO', 'Destination Station Name': 'MADGOAN JN.'}\n",
      "{'_id': ObjectId('5dbd6867e674a7abf73ac813'), 'Train No': 4420, 'Train Name': 'NZM-MAO WINT', 'SEQ': 5, 'Station Code': 'ST', 'Station Name': 'SURAT', 'Arrival time': '04:45:00', 'Arrival Seconds': 4140, 'Departure Time': '04:50:00', 'Departure Seconds': 4440, 'Distance': 1106, 'Source Station': 'NZM', 'Source Station Name': 'HAZRAT NIZAMUDDIN JN', 'Destination Station': 'MAO', 'Destination Station Name': 'MADGOAN JN.'}\n",
      "{'_id': ObjectId('5dbd6867e674a7abf73ac814'), 'Train No': 4420, 'Train Name': 'NZM-MAO WINT', 'SEQ': 4, 'Station Code': 'BRC', 'Station Name': 'VADODARA JN.', 'Arrival time': '02:57:00', 'Arrival Seconds': 4140, 'Departure Time': '03:07:00', 'Departure Seconds': 1500, 'Distance': 978, 'Source Station': 'NZM', 'Source Station Name': 'HAZRAT NIZAMUDDIN JN', 'Destination Station': 'MAO', 'Destination Station Name': 'MADGOAN JN.'}\n",
      "{'_id': ObjectId('5dbd6867e674a7abf73ac815'), 'Train No': 4420, 'Train Name': 'NZM-MAO WINT', 'SEQ': 3, 'Station Code': 'RTM', 'Station Name': 'RATLAM JN', 'Arrival time': '23:20:00', 'Arrival Seconds': 9480, 'Departure Time': '23:25:00', 'Departure Seconds': 9780, 'Distance': 715, 'Source Station': 'NZM', 'Source Station Name': 'HAZRAT NIZAMUDDIN JN', 'Destination Station': 'MAO', 'Destination Station Name': 'MADGOAN JN.'}\n",
      "{'_id': ObjectId('5dbd6867e674a7abf73ac816'), 'Train No': 4420, 'Train Name': 'NZM-MAO WINT', 'SEQ': 6, 'Station Code': 'BSR', 'Station Name': 'VASAI ROAD', 'Arrival time': '06:40:00', 'Arrival Seconds': 4560, 'Departure Time': '06:45:00', 'Departure Seconds': 4860, 'Distance': 1321, 'Source Station': 'NZM', 'Source Station Name': 'HAZRAT NIZAMUDDIN JN', 'Destination Station': 'MAO', 'Destination Station Name': 'MADGOAN JN.'}\n",
      "{'_id': ObjectId('5dbd6867e674a7abf73ac817'), 'Train No': 4420, 'Train Name': 'NZM-MAO WINT', 'SEQ': 2, 'Station Code': 'KOTA', 'Station Name': 'KOTA', 'Arrival time': '20:10:00', 'Arrival Seconds': 7800, 'Departure Time': '20:15:00', 'Departure Seconds': 8100, 'Distance': 450, 'Source Station': 'NZM', 'Source Station Name': 'HAZRAT NIZAMUDDIN JN', 'Destination Station': 'MAO', 'Destination Station Name': 'MADGOAN JN.'}\n",
      "{'_id': ObjectId('5dbd6867e674a7abf73ac818'), 'Train No': 4420, 'Train Name': 'NZM-MAO WINT', 'SEQ': 10, 'Station Code': 'RN', 'Station Name': 'RATNAGIRI', 'Arrival time': '14:00:00', 'Arrival Seconds': 5040, 'Departure Time': '14:05:00', 'Departure Seconds': 5340, 'Distance': 1673, 'Source Station': 'NZM', 'Source Station Name': 'HAZRAT NIZAMUDDIN JN', 'Destination Station': 'MAO', 'Destination Station Name': 'MADGOAN JN.'}\n",
      "{'_id': ObjectId('5dbd6867e674a7abf73ac819'), 'Train No': 4420, 'Train Name': 'NZM-MAO WINT', 'SEQ': 7, 'Station Code': 'PNVL', 'Station Name': 'PANVEL', 'Arrival time': '08:05:00', 'Arrival Seconds': 3180, 'Departure Time': '08:10:00', 'Departure Seconds': 3480, 'Distance': 1387, 'Source Station': 'NZM', 'Source Station Name': 'HAZRAT NIZAMUDDIN JN', 'Destination Station': 'MAO', 'Destination Station Name': 'MADGOAN JN.'}\n",
      "{'_id': ObjectId('5dbd6867e674a7abf73ac81a'), 'Train No': 4420, 'Train Name': 'NZM-MAO WINT', 'SEQ': 8, 'Station Code': 'ROHA', 'Station Name': 'ROHA', 'Arrival time': '10:35:00', 'Arrival Seconds': 5700, 'Departure Time': '10:40:00', 'Departure Seconds': 6000, 'Distance': 1464, 'Source Station': 'NZM', 'Source Station Name': 'HAZRAT NIZAMUDDIN JN', 'Destination Station': 'MAO', 'Destination Station Name': 'MADGOAN JN.'}\n",
      "{'_id': ObjectId('5dbd6867e674a7abf73ac81b'), 'Train No': 4420, 'Train Name': 'NZM-MAO WINT', 'SEQ': 9, 'Station Code': 'CHI', 'Station Name': 'CHIPLUN', 'Arrival time': '12:28:00', 'Arrival Seconds': 6000, 'Departure Time': '12:30:00', 'Departure Seconds': 6120, 'Distance': 1597, 'Source Station': 'NZM', 'Source Station Name': 'HAZRAT NIZAMUDDIN JN', 'Destination Station': 'MAO', 'Destination Station Name': 'MADGOAN JN.'}\n",
      "{'_id': ObjectId('5dbd6867e674a7abf73ac81c'), 'Train No': 4420, 'Train Name': 'NZM-MAO WINT', 'SEQ': 11, 'Station Code': 'KUDL', 'Station Name': 'KUDAL', 'Arrival time': '16:38:00', 'Arrival Seconds': 8040, 'Departure Time': '16:40:00', 'Departure Seconds': 8160, 'Distance': 1825, 'Source Station': 'NZM', 'Source Station Name': 'HAZRAT NIZAMUDDIN JN', 'Destination Station': 'MAO', 'Destination Station Name': 'MADGOAN JN.'}\n",
      "{'_id': ObjectId('5dbd6867e674a7abf73ac81d'), 'Train No': 4420, 'Train Name': 'NZM-MAO WINT', 'SEQ': 12, 'Station Code': 'THVM', 'Station Name': 'THIVIM', 'Arrival time': '17:24:00', 'Arrival Seconds': 7560, 'Departure Time': '17:26:00', 'Departure Seconds': 7680, 'Distance': 1878, 'Source Station': 'NZM', 'Source Station Name': 'HAZRAT NIZAMUDDIN JN', 'Destination Station': 'MAO', 'Destination Station Name': 'MADGOAN JN.'}\n",
      "{'_id': ObjectId('5dbd6867e674a7abf73ac81e'), 'Train No': 4420, 'Train Name': 'NZM-MAO WINT', 'SEQ': 13, 'Station Code': 'MAO', 'Station Name': 'MADGOAN JN.', 'Arrival time': '19:40:00', 'Arrival Seconds': 9240, 'Departure Time': '19:40:00', 'Departure Seconds': 9240, 'Distance': 1924, 'Source Station': 'NZM', 'Source Station Name': 'HAZRAT NIZAMUDDIN JN', 'Destination Station': 'MAO', 'Destination Station Name': 'MADGOAN JN.'}\n"
     ]
    }
   ],
   "source": [
    "for x in mydoc:\n",
    "    print(x)"
   ]
  },
  {
   "cell_type": "code",
   "execution_count": null,
   "metadata": {},
   "outputs": [],
   "source": []
  },
  {
   "cell_type": "code",
   "execution_count": null,
   "metadata": {},
   "outputs": [],
   "source": []
  },
  {
   "cell_type": "code",
   "execution_count": null,
   "metadata": {},
   "outputs": [],
   "source": []
  },
  {
   "cell_type": "code",
   "execution_count": null,
   "metadata": {},
   "outputs": [],
   "source": []
  },
  {
   "cell_type": "code",
   "execution_count": null,
   "metadata": {},
   "outputs": [],
   "source": []
  },
  {
   "cell_type": "code",
   "execution_count": null,
   "metadata": {},
   "outputs": [],
   "source": []
  },
  {
   "cell_type": "code",
   "execution_count": null,
   "metadata": {},
   "outputs": [],
   "source": []
  },
  {
   "cell_type": "code",
   "execution_count": 5,
   "metadata": {},
   "outputs": [],
   "source": []
  },
  {
   "cell_type": "code",
   "execution_count": 6,
   "metadata": {},
   "outputs": [],
   "source": []
  },
  {
   "cell_type": "code",
   "execution_count": 7,
   "metadata": {},
   "outputs": [],
   "source": []
  },
  {
   "cell_type": "code",
   "execution_count": null,
   "metadata": {},
   "outputs": [],
   "source": []
  },
  {
   "cell_type": "code",
   "execution_count": null,
   "metadata": {},
   "outputs": [],
   "source": []
  },
  {
   "cell_type": "code",
   "execution_count": null,
   "metadata": {},
   "outputs": [],
   "source": []
  },
  {
   "cell_type": "code",
   "execution_count": null,
   "metadata": {},
   "outputs": [],
   "source": []
  },
  {
   "cell_type": "code",
   "execution_count": null,
   "metadata": {},
   "outputs": [],
   "source": []
  },
  {
   "cell_type": "code",
   "execution_count": null,
   "metadata": {},
   "outputs": [],
   "source": []
  },
  {
   "cell_type": "code",
   "execution_count": null,
   "metadata": {},
   "outputs": [],
   "source": []
  },
  {
   "cell_type": "code",
   "execution_count": null,
   "metadata": {},
   "outputs": [],
   "source": []
  },
  {
   "cell_type": "code",
   "execution_count": null,
   "metadata": {},
   "outputs": [],
   "source": []
  },
  {
   "cell_type": "code",
   "execution_count": null,
   "metadata": {},
   "outputs": [],
   "source": []
  },
  {
   "cell_type": "code",
   "execution_count": null,
   "metadata": {},
   "outputs": [],
   "source": []
  },
  {
   "cell_type": "code",
   "execution_count": null,
   "metadata": {},
   "outputs": [],
   "source": []
  },
  {
   "cell_type": "code",
   "execution_count": null,
   "metadata": {},
   "outputs": [],
   "source": []
  },
  {
   "cell_type": "code",
   "execution_count": null,
   "metadata": {},
   "outputs": [],
   "source": []
  },
  {
   "cell_type": "code",
   "execution_count": null,
   "metadata": {},
   "outputs": [],
   "source": []
  },
  {
   "cell_type": "code",
   "execution_count": null,
   "metadata": {},
   "outputs": [],
   "source": []
  }
 ],
 "metadata": {
  "kernelspec": {
   "display_name": "Python 3",
   "language": "python",
   "name": "python3"
  },
  "language_info": {
   "codemirror_mode": {
    "name": "ipython",
    "version": 3
   },
   "file_extension": ".py",
   "mimetype": "text/x-python",
   "name": "python",
   "nbconvert_exporter": "python",
   "pygments_lexer": "ipython3",
   "version": "3.7.3"
  }
 },
 "nbformat": 4,
 "nbformat_minor": 2
}
